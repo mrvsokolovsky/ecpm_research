{
 "cells": [
  {
   "cell_type": "markdown",
   "metadata": {},
   "source": [
    "# Исследование eCPM"
   ]
  },
  {
   "cell_type": "markdown",
   "metadata": {},
   "source": [
    "### Постановка задачи"
   ]
  },
  {
   "cell_type": "markdown",
   "metadata": {},
   "source": [
    "Провести исследование показов рекламы с целью понять на сколько отличается eCPM в зависимости от географии (города) юзера, версии ОС и других параметров.\n",
    "\n",
    "**План исследования:**\n",
    "- Обзор и предобработка данных\n",
    "- Построение распределения средних eCPM-ов юзеров\n",
    "- Отображение средних eCPM-ов по городам, версиям ОС\n",
    "- ANOVA и Tukey-test по городам\n",
    "- Отображение суммарных доходов по городам, версиям ОС\n",
    "- Вывод"
   ]
  },
  {
   "cell_type": "markdown",
   "metadata": {},
   "source": [
    "#### Обзор данных"
   ]
  },
  {
   "cell_type": "markdown",
   "metadata": {},
   "source": [
    "Импортируем необходимые библиотеки"
   ]
  },
  {
   "cell_type": "code",
   "execution_count": 27,
   "metadata": {},
   "outputs": [],
   "source": [
    "import pandas as pd\n",
    "import json\n",
    "import seaborn as sns\n",
    "import matplotlib.pyplot as plt\n",
    "import numpy as np\n",
    "import scipy.stats as st\n",
    "from statsmodels.stats.multicomp import pairwise_tukeyhsd\n",
    "np.set_printoptions(suppress=True) ;"
   ]
  },
  {
   "cell_type": "markdown",
   "metadata": {},
   "source": [
    "Подгружаем данные и отображаем общую информацию"
   ]
  },
  {
   "cell_type": "code",
   "execution_count": 2,
   "metadata": {
    "scrolled": false
   },
   "outputs": [
    {
     "name": "stdout",
     "output_type": "stream",
     "text": [
      "<class 'pandas.core.frame.DataFrame'>\n",
      "RangeIndex: 860079 entries, 0 to 860078\n",
      "Data columns (total 16 columns):\n",
      " #   Column                   Non-Null Count   Dtype \n",
      "---  ------                   --------------   ----- \n",
      " 0   profile_id               860065 non-null  object\n",
      " 1   os_version               860079 non-null  object\n",
      " 2   device_manufacturer      860079 non-null  object\n",
      " 3   device_model             860079 non-null  object\n",
      " 4   device_type              860079 non-null  object\n",
      " 5   device_locale            860079 non-null  object\n",
      " 6   event_name               860079 non-null  object\n",
      " 7   event_json               860079 non-null  object\n",
      " 8   event_datetime           860079 non-null  object\n",
      " 9   event_timestamp          860079 non-null  int64 \n",
      " 10  event_receive_datetime   860079 non-null  object\n",
      " 11  event_receive_timestamp  860079 non-null  int64 \n",
      " 12  connection_type          860079 non-null  object\n",
      " 13  operator_name            841200 non-null  object\n",
      " 14  country_iso_code         860079 non-null  object\n",
      " 15  city                     536371 non-null  object\n",
      "dtypes: int64(2), object(14)\n",
      "memory usage: 105.0+ MB\n"
     ]
    }
   ],
   "source": [
    "df = pd.read_csv('data.csv')\n",
    "df.info()"
   ]
  },
  {
   "cell_type": "markdown",
   "metadata": {},
   "source": [
    "Сразу можно обнаружить следующие проблемы в данных:\n",
    "- Есть несколько пропусков в столбце с id пользователя (от этих строк избавимся, ведь восстановить их не получится и данных мы потеряем минимальное количество)\n",
    "- Есть пропуски в столбце с названием оператора (удалим этот столбец, над ним не планируется проводить никаких манипуляций)\n",
    "- Есть много пропусков в названии города. Предположу, что у пользователя есть опция указать город в процессе регистрации и часть пользователей этого не делают. Пока что оставим пропуски в этом столбце как есть, ведь удаление такого значительного количества строк приведет к сильному обеднению датасета, а возможный способ восстановления пока не очевиден.\n",
    "- Неверные типы данных в столбцах с датами и временем. Необходимо преобразовать в datetime\n",
    "\n",
    "- *Также отдельно стоит упомянуть необходимость извлечь данные из колонки json и создать для них отдельные столбцы для удобства работы с этими данными*\n",
    "\n",
    "P.S. Явные дубликаты отсутствуют, страна действительно только США, лишние данные в датасет не попали"
   ]
  },
  {
   "cell_type": "markdown",
   "metadata": {},
   "source": [
    "#### Предобработка данных"
   ]
  },
  {
   "cell_type": "code",
   "execution_count": 3,
   "metadata": {},
   "outputs": [],
   "source": [
    "df = df.dropna(subset=['profile_id']) # удаляем строки, в которых не указан айди юзера\n",
    "df = df.drop('operator_name', axis=1) # удаляем столбец с именем оператора\n",
    "\n",
    "# преобразуем столбцы с датой в тип datetime\n",
    "df['event_datetime'] = pd.to_datetime(df['event_datetime']) \n",
    "df['event_receive_datetime'] = pd.to_datetime(df['event_receive_datetime'])"
   ]
  },
  {
   "cell_type": "code",
   "execution_count": 4,
   "metadata": {
    "scrolled": true
   },
   "outputs": [
    {
     "data": {
      "text/html": [
       "<div>\n",
       "<style scoped>\n",
       "    .dataframe tbody tr th:only-of-type {\n",
       "        vertical-align: middle;\n",
       "    }\n",
       "\n",
       "    .dataframe tbody tr th {\n",
       "        vertical-align: top;\n",
       "    }\n",
       "\n",
       "    .dataframe thead tr th {\n",
       "        text-align: left;\n",
       "    }\n",
       "</style>\n",
       "<table border=\"1\" class=\"dataframe\">\n",
       "  <thead>\n",
       "    <tr>\n",
       "      <th></th>\n",
       "      <th>profile_id</th>\n",
       "      <th colspan=\"3\" halign=\"left\">city</th>\n",
       "    </tr>\n",
       "    <tr>\n",
       "      <th></th>\n",
       "      <th></th>\n",
       "      <th>count</th>\n",
       "      <th>size</th>\n",
       "      <th>nunique</th>\n",
       "    </tr>\n",
       "  </thead>\n",
       "  <tbody>\n",
       "    <tr>\n",
       "      <th>0</th>\n",
       "      <td>JL00qCZH1HV</td>\n",
       "      <td>0</td>\n",
       "      <td>13</td>\n",
       "      <td>0</td>\n",
       "    </tr>\n",
       "    <tr>\n",
       "      <th>1</th>\n",
       "      <td>JL015rw9vmN</td>\n",
       "      <td>371</td>\n",
       "      <td>429</td>\n",
       "      <td>2</td>\n",
       "    </tr>\n",
       "    <tr>\n",
       "      <th>2</th>\n",
       "      <td>JL01aCdFTJy</td>\n",
       "      <td>39</td>\n",
       "      <td>39</td>\n",
       "      <td>1</td>\n",
       "    </tr>\n",
       "    <tr>\n",
       "      <th>3</th>\n",
       "      <td>JL04ODuw9UP</td>\n",
       "      <td>84</td>\n",
       "      <td>84</td>\n",
       "      <td>1</td>\n",
       "    </tr>\n",
       "    <tr>\n",
       "      <th>4</th>\n",
       "      <td>JL06OWhBYxn</td>\n",
       "      <td>13</td>\n",
       "      <td>13</td>\n",
       "      <td>1</td>\n",
       "    </tr>\n",
       "  </tbody>\n",
       "</table>\n",
       "</div>"
      ],
      "text/plain": [
       "    profile_id  city             \n",
       "               count size nunique\n",
       "0  JL00qCZH1HV     0   13       0\n",
       "1  JL015rw9vmN   371  429       2\n",
       "2  JL01aCdFTJy    39   39       1\n",
       "3  JL04ODuw9UP    84   84       1\n",
       "4  JL06OWhBYxn    13   13       1"
      ]
     },
     "metadata": {},
     "output_type": "display_data"
    },
    {
     "data": {
      "text/html": [
       "<div>\n",
       "<style scoped>\n",
       "    .dataframe tbody tr th:only-of-type {\n",
       "        vertical-align: middle;\n",
       "    }\n",
       "\n",
       "    .dataframe tbody tr th {\n",
       "        vertical-align: top;\n",
       "    }\n",
       "\n",
       "    .dataframe thead tr th {\n",
       "        text-align: left;\n",
       "    }\n",
       "</style>\n",
       "<table border=\"1\" class=\"dataframe\">\n",
       "  <thead>\n",
       "    <tr>\n",
       "      <th></th>\n",
       "      <th>profile_id</th>\n",
       "      <th colspan=\"3\" halign=\"left\">city</th>\n",
       "    </tr>\n",
       "    <tr>\n",
       "      <th></th>\n",
       "      <th></th>\n",
       "      <th>count</th>\n",
       "      <th>size</th>\n",
       "      <th>nunique</th>\n",
       "    </tr>\n",
       "  </thead>\n",
       "  <tbody>\n",
       "    <tr>\n",
       "      <th>1</th>\n",
       "      <td>JL015rw9vmN</td>\n",
       "      <td>371</td>\n",
       "      <td>429</td>\n",
       "      <td>2</td>\n",
       "    </tr>\n",
       "    <tr>\n",
       "      <th>23</th>\n",
       "      <td>JL0u6mnAMTV</td>\n",
       "      <td>31</td>\n",
       "      <td>31</td>\n",
       "      <td>2</td>\n",
       "    </tr>\n",
       "    <tr>\n",
       "      <th>25</th>\n",
       "      <td>JL0vB2rdkeV</td>\n",
       "      <td>112</td>\n",
       "      <td>112</td>\n",
       "      <td>3</td>\n",
       "    </tr>\n",
       "  </tbody>\n",
       "</table>\n",
       "</div>"
      ],
      "text/plain": [
       "     profile_id  city             \n",
       "                count size nunique\n",
       "1   JL015rw9vmN   371  429       2\n",
       "23  JL0u6mnAMTV    31   31       2\n",
       "25  JL0vB2rdkeV   112  112       3"
      ]
     },
     "metadata": {},
     "output_type": "display_data"
    }
   ],
   "source": [
    "#сравниваем количество записей о пользователе с числом упоминаний города в этих записях\n",
    "city_nan_check = df.groupby('profile_id').agg({'city':['count', 'size', 'nunique']}).reset_index()\n",
    "# выводим на экран полученный датафрейм, а также тех пользователей, для которых указано 2 и более городов\n",
    "display(city_nan_check.head(), city_nan_check[city_nan_check['city']['nunique']>1].head(3))"
   ]
  },
  {
   "cell_type": "markdown",
   "metadata": {},
   "source": [
    "Видим, что существуют такие пользователи, у которых однажды указан город и по нему потенциально можно восстановить пропущенные значения в остальных строчках. Однако есть пользователи, которые заходят в игру из разных мест. \n",
    "В ячейке ниже можно увидеть, что пользователь заходит в игру через wifi из города Lima, а через cell из двух разных городов. Это может стать препятствием. Стоит уточнить у заказчика, каким образом формируется этот столбец и есть ли возможность восстановить пропуски таким образом."
   ]
  },
  {
   "cell_type": "code",
   "execution_count": 5,
   "metadata": {},
   "outputs": [
    {
     "data": {
      "text/html": [
       "<div>\n",
       "<style scoped>\n",
       "    .dataframe tbody tr th:only-of-type {\n",
       "        vertical-align: middle;\n",
       "    }\n",
       "\n",
       "    .dataframe tbody tr th {\n",
       "        vertical-align: top;\n",
       "    }\n",
       "\n",
       "    .dataframe thead th {\n",
       "        text-align: right;\n",
       "    }\n",
       "</style>\n",
       "<table border=\"1\" class=\"dataframe\">\n",
       "  <thead>\n",
       "    <tr style=\"text-align: right;\">\n",
       "      <th></th>\n",
       "      <th>connection_type</th>\n",
       "      <th>city</th>\n",
       "    </tr>\n",
       "  </thead>\n",
       "  <tbody>\n",
       "    <tr>\n",
       "      <th>23374</th>\n",
       "      <td>cell</td>\n",
       "      <td>Cincinnati</td>\n",
       "    </tr>\n",
       "    <tr>\n",
       "      <th>23380</th>\n",
       "      <td>cell</td>\n",
       "      <td>Cincinnati</td>\n",
       "    </tr>\n",
       "    <tr>\n",
       "      <th>23388</th>\n",
       "      <td>cell</td>\n",
       "      <td>Cincinnati</td>\n",
       "    </tr>\n",
       "    <tr>\n",
       "      <th>23005</th>\n",
       "      <td>cell</td>\n",
       "      <td>Dayton</td>\n",
       "    </tr>\n",
       "    <tr>\n",
       "      <th>518114</th>\n",
       "      <td>wifi</td>\n",
       "      <td>Lima</td>\n",
       "    </tr>\n",
       "    <tr>\n",
       "      <th>518106</th>\n",
       "      <td>wifi</td>\n",
       "      <td>Lima</td>\n",
       "    </tr>\n",
       "    <tr>\n",
       "      <th>23003</th>\n",
       "      <td>cell</td>\n",
       "      <td>Dayton</td>\n",
       "    </tr>\n",
       "    <tr>\n",
       "      <th>23385</th>\n",
       "      <td>cell</td>\n",
       "      <td>Cincinnati</td>\n",
       "    </tr>\n",
       "    <tr>\n",
       "      <th>22991</th>\n",
       "      <td>cell</td>\n",
       "      <td>Dayton</td>\n",
       "    </tr>\n",
       "    <tr>\n",
       "      <th>22987</th>\n",
       "      <td>cell</td>\n",
       "      <td>Dayton</td>\n",
       "    </tr>\n",
       "  </tbody>\n",
       "</table>\n",
       "</div>"
      ],
      "text/plain": [
       "       connection_type        city\n",
       "23374             cell  Cincinnati\n",
       "23380             cell  Cincinnati\n",
       "23388             cell  Cincinnati\n",
       "23005             cell      Dayton\n",
       "518114            wifi        Lima\n",
       "518106            wifi        Lima\n",
       "23003             cell      Dayton\n",
       "23385             cell  Cincinnati\n",
       "22991             cell      Dayton\n",
       "22987             cell      Dayton"
      ]
     },
     "execution_count": 5,
     "metadata": {},
     "output_type": "execute_result"
    }
   ],
   "source": [
    "# выберем одного такого пользователя и посмотрим, как он оказывается в разных городах\n",
    "df[df['profile_id'] == 'JL0vB2rdkeV'][['connection_type', 'city']].sample(10)"
   ]
  },
  {
   "cell_type": "markdown",
   "metadata": {},
   "source": [
    "Извлечём данные из json и добавим в новые колонки для дальнейшего исследования."
   ]
  },
  {
   "cell_type": "code",
   "execution_count": 6,
   "metadata": {},
   "outputs": [],
   "source": [
    "def add_column_from_json(json_file, column_name):\n",
    "    \"\"\"Функция подгружает json и по заданному ключу (column_name) возвращает значение \n",
    "    для нового создаваемого столбца\"\"\"\n",
    "    value_from_json = json.loads(json_file)[column_name]\n",
    "    return value_from_json\n",
    "\n",
    "#применяем функцию к необходимым ключам в json\n",
    "df['revenue'] = df.event_json.apply(add_column_from_json, args=['revenue']) \n",
    "df['ad_type'] = df.event_json.apply(add_column_from_json, args=['ad_type'])\n",
    "df['ads_ltv'] = df.event_json.apply(add_column_from_json, args=['ads_ltv'])\n",
    "df['ecpm'] = df['revenue'] * 1000 # вычислим eCPM как revenue * 1000"
   ]
  },
  {
   "cell_type": "code",
   "execution_count": 7,
   "metadata": {},
   "outputs": [],
   "source": [
    "def drop_outliers(data, column):\n",
    "    \"\"\"Функция оставляет в заданной колонке column датафрейма data значения,\n",
    "    входящие в пределы (q1 - 1.7iqr, q3 + 1.7iqr)\"\"\"\n",
    "    q1 = np.percentile(data[column], 25)\n",
    "    q3 = np.percentile(data[column], 75)\n",
    "    iqr = q3 - q1\n",
    "    data = data.query(f'{column} < {q3 + 1.7 * iqr} and {column} > {q1 - 1.7 * iqr}')\n",
    "    return data"
   ]
  },
  {
   "cell_type": "markdown",
   "metadata": {},
   "source": [
    "### 1. a) Построение распределений средних eCPM юзеров"
   ]
  },
  {
   "cell_type": "markdown",
   "metadata": {},
   "source": [
    "Сгруппируем данные по типу рекламы и пользователю и вычислим средний eCPM для каждого пользователя."
   ]
  },
  {
   "cell_type": "code",
   "execution_count": 8,
   "metadata": {
    "scrolled": true
   },
   "outputs": [
    {
     "data": {
      "text/html": [
       "<div>\n",
       "<style scoped>\n",
       "    .dataframe tbody tr th:only-of-type {\n",
       "        vertical-align: middle;\n",
       "    }\n",
       "\n",
       "    .dataframe tbody tr th {\n",
       "        vertical-align: top;\n",
       "    }\n",
       "\n",
       "    .dataframe thead th {\n",
       "        text-align: right;\n",
       "    }\n",
       "</style>\n",
       "<table border=\"1\" class=\"dataframe\">\n",
       "  <thead>\n",
       "    <tr style=\"text-align: right;\">\n",
       "      <th></th>\n",
       "      <th>ad_type</th>\n",
       "      <th>profile_id</th>\n",
       "      <th>ecpm</th>\n",
       "    </tr>\n",
       "  </thead>\n",
       "  <tbody>\n",
       "    <tr>\n",
       "      <th>0</th>\n",
       "      <td>banner</td>\n",
       "      <td>JL00qCZH1HV</td>\n",
       "      <td>3.183940</td>\n",
       "    </tr>\n",
       "    <tr>\n",
       "      <th>1</th>\n",
       "      <td>banner</td>\n",
       "      <td>JL015rw9vmN</td>\n",
       "      <td>1.160748</td>\n",
       "    </tr>\n",
       "    <tr>\n",
       "      <th>2</th>\n",
       "      <td>banner</td>\n",
       "      <td>JL01aCdFTJy</td>\n",
       "      <td>0.740097</td>\n",
       "    </tr>\n",
       "    <tr>\n",
       "      <th>3</th>\n",
       "      <td>banner</td>\n",
       "      <td>JL04ODuw9UP</td>\n",
       "      <td>0.213227</td>\n",
       "    </tr>\n",
       "    <tr>\n",
       "      <th>4</th>\n",
       "      <td>banner</td>\n",
       "      <td>JL06OWhBYxn</td>\n",
       "      <td>0.468146</td>\n",
       "    </tr>\n",
       "  </tbody>\n",
       "</table>\n",
       "</div>"
      ],
      "text/plain": [
       "  ad_type   profile_id      ecpm\n",
       "0  banner  JL00qCZH1HV  3.183940\n",
       "1  banner  JL015rw9vmN  1.160748\n",
       "2  banner  JL01aCdFTJy  0.740097\n",
       "3  banner  JL04ODuw9UP  0.213227\n",
       "4  banner  JL06OWhBYxn  0.468146"
      ]
     },
     "execution_count": 8,
     "metadata": {},
     "output_type": "execute_result"
    }
   ],
   "source": [
    "# сгруппируем данные по типу объявления и айди и посчитаем для каждого айди средний eCPM\n",
    "mean_ecpm_by_adtype = df.groupby(['ad_type', 'profile_id']).agg({'ecpm':'mean'}).reset_index()\n",
    "\n",
    "# сделаем для каждого типа объявления свой датафрейм\n",
    "full = mean_ecpm_by_adtype.query('ad_type==\"int\"')\n",
    "rv = mean_ecpm_by_adtype.query('ad_type==\"rv\"')\n",
    "banner = mean_ecpm_by_adtype.query('ad_type==\"banner\"')\n",
    "\n",
    "mean_ecpm_by_adtype.head()"
   ]
  },
  {
   "cell_type": "code",
   "execution_count": 9,
   "metadata": {},
   "outputs": [
    {
     "data": {
      "image/png": "[encoded data removed]",
      "text/plain": [
       "<Figure size 936x1296 with 3 Axes>"
      ]
     },
     "metadata": {
      "needs_background": "light"
     },
     "output_type": "display_data"
    }
   ],
   "source": [
    "# построим гистограмму для каждого типа объявлений\n",
    "bins = 300\n",
    "fig, ax = plt.subplots(3, 1, figsize=(13,18), sharey=True)\n",
    "fig.suptitle('Гистограммы распределений eCPM для каждого из типов рекламы')\n",
    "sns.histplot(data=full, bins=bins, x='ecpm', ax=ax[0])\n",
    "ax[0].set_title('Распределение eCPM для полноэкранной рекламы')\n",
    "sns.histplot(data=rv, bins=bins, x='ecpm', ax=ax[1])\n",
    "ax[1].set_title('Распределение eCPM для видео')\n",
    "sns.histplot(data=banner, bins=bins, x='ecpm', ax=ax[2])\n",
    "ax[2].set_title('Распределение eCPM для баннеров')\n",
    "plt.show()"
   ]
  },
  {
   "cell_type": "code",
   "execution_count": 10,
   "metadata": {
    "scrolled": true
   },
   "outputs": [
    {
     "data": {
      "text/html": [
       "<div>\n",
       "<style scoped>\n",
       "    .dataframe tbody tr th:only-of-type {\n",
       "        vertical-align: middle;\n",
       "    }\n",
       "\n",
       "    .dataframe tbody tr th {\n",
       "        vertical-align: top;\n",
       "    }\n",
       "\n",
       "    .dataframe thead th {\n",
       "        text-align: right;\n",
       "    }\n",
       "</style>\n",
       "<table border=\"1\" class=\"dataframe\">\n",
       "  <thead>\n",
       "    <tr style=\"text-align: right;\">\n",
       "      <th></th>\n",
       "      <th>ecpm</th>\n",
       "    </tr>\n",
       "  </thead>\n",
       "  <tbody>\n",
       "    <tr>\n",
       "      <th>count</th>\n",
       "      <td>3962.000000</td>\n",
       "    </tr>\n",
       "    <tr>\n",
       "      <th>mean</th>\n",
       "      <td>45.557457</td>\n",
       "    </tr>\n",
       "    <tr>\n",
       "      <th>std</th>\n",
       "      <td>46.877344</td>\n",
       "    </tr>\n",
       "    <tr>\n",
       "      <th>min</th>\n",
       "      <td>0.000000</td>\n",
       "    </tr>\n",
       "    <tr>\n",
       "      <th>25%</th>\n",
       "      <td>17.620615</td>\n",
       "    </tr>\n",
       "    <tr>\n",
       "      <th>50%</th>\n",
       "      <td>27.623670</td>\n",
       "    </tr>\n",
       "    <tr>\n",
       "      <th>75%</th>\n",
       "      <td>56.397665</td>\n",
       "    </tr>\n",
       "    <tr>\n",
       "      <th>max</th>\n",
       "      <td>568.678270</td>\n",
       "    </tr>\n",
       "  </tbody>\n",
       "</table>\n",
       "</div>"
      ],
      "text/plain": [
       "              ecpm\n",
       "count  3962.000000\n",
       "mean     45.557457\n",
       "std      46.877344\n",
       "min       0.000000\n",
       "25%      17.620615\n",
       "50%      27.623670\n",
       "75%      56.397665\n",
       "max     568.678270"
      ]
     },
     "metadata": {},
     "output_type": "display_data"
    },
    {
     "data": {
      "text/html": [
       "<div>\n",
       "<style scoped>\n",
       "    .dataframe tbody tr th:only-of-type {\n",
       "        vertical-align: middle;\n",
       "    }\n",
       "\n",
       "    .dataframe tbody tr th {\n",
       "        vertical-align: top;\n",
       "    }\n",
       "\n",
       "    .dataframe thead th {\n",
       "        text-align: right;\n",
       "    }\n",
       "</style>\n",
       "<table border=\"1\" class=\"dataframe\">\n",
       "  <thead>\n",
       "    <tr style=\"text-align: right;\">\n",
       "      <th></th>\n",
       "      <th>ecpm</th>\n",
       "    </tr>\n",
       "  </thead>\n",
       "  <tbody>\n",
       "    <tr>\n",
       "      <th>count</th>\n",
       "      <td>1324.000000</td>\n",
       "    </tr>\n",
       "    <tr>\n",
       "      <th>mean</th>\n",
       "      <td>80.502004</td>\n",
       "    </tr>\n",
       "    <tr>\n",
       "      <th>std</th>\n",
       "      <td>79.154906</td>\n",
       "    </tr>\n",
       "    <tr>\n",
       "      <th>min</th>\n",
       "      <td>0.223222</td>\n",
       "    </tr>\n",
       "    <tr>\n",
       "      <th>25%</th>\n",
       "      <td>28.240000</td>\n",
       "    </tr>\n",
       "    <tr>\n",
       "      <th>50%</th>\n",
       "      <td>46.019935</td>\n",
       "    </tr>\n",
       "    <tr>\n",
       "      <th>75%</th>\n",
       "      <td>98.067206</td>\n",
       "    </tr>\n",
       "    <tr>\n",
       "      <th>max</th>\n",
       "      <td>808.294820</td>\n",
       "    </tr>\n",
       "  </tbody>\n",
       "</table>\n",
       "</div>"
      ],
      "text/plain": [
       "              ecpm\n",
       "count  1324.000000\n",
       "mean     80.502004\n",
       "std      79.154906\n",
       "min       0.223222\n",
       "25%      28.240000\n",
       "50%      46.019935\n",
       "75%      98.067206\n",
       "max     808.294820"
      ]
     },
     "metadata": {},
     "output_type": "display_data"
    },
    {
     "data": {
      "text/html": [
       "<div>\n",
       "<style scoped>\n",
       "    .dataframe tbody tr th:only-of-type {\n",
       "        vertical-align: middle;\n",
       "    }\n",
       "\n",
       "    .dataframe tbody tr th {\n",
       "        vertical-align: top;\n",
       "    }\n",
       "\n",
       "    .dataframe thead th {\n",
       "        text-align: right;\n",
       "    }\n",
       "</style>\n",
       "<table border=\"1\" class=\"dataframe\">\n",
       "  <thead>\n",
       "    <tr style=\"text-align: right;\">\n",
       "      <th></th>\n",
       "      <th>ecpm</th>\n",
       "    </tr>\n",
       "  </thead>\n",
       "  <tbody>\n",
       "    <tr>\n",
       "      <th>count</th>\n",
       "      <td>3508.000000</td>\n",
       "    </tr>\n",
       "    <tr>\n",
       "      <th>mean</th>\n",
       "      <td>1.157111</td>\n",
       "    </tr>\n",
       "    <tr>\n",
       "      <th>std</th>\n",
       "      <td>1.867792</td>\n",
       "    </tr>\n",
       "    <tr>\n",
       "      <th>min</th>\n",
       "      <td>0.013930</td>\n",
       "    </tr>\n",
       "    <tr>\n",
       "      <th>25%</th>\n",
       "      <td>0.322804</td>\n",
       "    </tr>\n",
       "    <tr>\n",
       "      <th>50%</th>\n",
       "      <td>0.583002</td>\n",
       "    </tr>\n",
       "    <tr>\n",
       "      <th>75%</th>\n",
       "      <td>1.297329</td>\n",
       "    </tr>\n",
       "    <tr>\n",
       "      <th>max</th>\n",
       "      <td>43.021387</td>\n",
       "    </tr>\n",
       "  </tbody>\n",
       "</table>\n",
       "</div>"
      ],
      "text/plain": [
       "              ecpm\n",
       "count  3508.000000\n",
       "mean      1.157111\n",
       "std       1.867792\n",
       "min       0.013930\n",
       "25%       0.322804\n",
       "50%       0.583002\n",
       "75%       1.297329\n",
       "max      43.021387"
      ]
     },
     "metadata": {},
     "output_type": "display_data"
    }
   ],
   "source": [
    "# посмотрим описательную статистику для каждого типа\n",
    "display(full.describe(), rv.describe(), banner.describe())"
   ]
  },
  {
   "cell_type": "markdown",
   "metadata": {},
   "source": [
    "Как визуально, так и с помощью описательных статистик видим, что распределения смещены вправо. Видимо, это происходит из-за длинного \"хвоста\" из выбросов. Воспользуемся стандартным способом избавления от выбросов через интерквартильный размах."
   ]
  },
  {
   "cell_type": "code",
   "execution_count": 11,
   "metadata": {},
   "outputs": [],
   "source": [
    "# избавимся от выбросов\n",
    "full = drop_outliers(full, 'ecpm')\n",
    "rv = drop_outliers(rv, 'ecpm')\n",
    "banner = drop_outliers(banner, 'ecpm')"
   ]
  },
  {
   "cell_type": "code",
   "execution_count": 12,
   "metadata": {},
   "outputs": [
    {
     "data": {
      "image/png": "[encoded data removed]",
      "text/plain": [
       "<Figure size 936x1296 with 3 Axes>"
      ]
     },
     "metadata": {
      "needs_background": "light"
     },
     "output_type": "display_data"
    }
   ],
   "source": [
    "# повторим визуализацию \n",
    "fig, ax = plt.subplots(3, 1, figsize=(13,18), sharey=True)\n",
    "fig.suptitle('Гистограммы распределений eCPM для каждого из типов рекламы')\n",
    "sns.histplot(data=full, bins=bins, x='ecpm', ax=ax[0])\n",
    "ax[0].set_title('Распределение eCPM для полноэкранной рекламы')\n",
    "sns.histplot(data=rv, bins=bins, x='ecpm', ax=ax[1])\n",
    "ax[1].set_title('Распределение eCPM для видео')\n",
    "sns.histplot(data=banner, bins=bins, x='ecpm', ax=ax[2])\n",
    "ax[2].set_title('Распределение eCPM для баннеров')\n",
    "plt.show()"
   ]
  },
  {
   "cell_type": "code",
   "execution_count": 13,
   "metadata": {},
   "outputs": [
    {
     "data": {
      "text/html": [
       "<div>\n",
       "<style scoped>\n",
       "    .dataframe tbody tr th:only-of-type {\n",
       "        vertical-align: middle;\n",
       "    }\n",
       "\n",
       "    .dataframe tbody tr th {\n",
       "        vertical-align: top;\n",
       "    }\n",
       "\n",
       "    .dataframe thead th {\n",
       "        text-align: right;\n",
       "    }\n",
       "</style>\n",
       "<table border=\"1\" class=\"dataframe\">\n",
       "  <thead>\n",
       "    <tr style=\"text-align: right;\">\n",
       "      <th></th>\n",
       "      <th>ecpm</th>\n",
       "    </tr>\n",
       "  </thead>\n",
       "  <tbody>\n",
       "    <tr>\n",
       "      <th>count</th>\n",
       "      <td>3633.000000</td>\n",
       "    </tr>\n",
       "    <tr>\n",
       "      <th>mean</th>\n",
       "      <td>34.136346</td>\n",
       "    </tr>\n",
       "    <tr>\n",
       "      <th>std</th>\n",
       "      <td>24.088901</td>\n",
       "    </tr>\n",
       "    <tr>\n",
       "      <th>min</th>\n",
       "      <td>0.000000</td>\n",
       "    </tr>\n",
       "    <tr>\n",
       "      <th>25%</th>\n",
       "      <td>16.711899</td>\n",
       "    </tr>\n",
       "    <tr>\n",
       "      <th>50%</th>\n",
       "      <td>25.434385</td>\n",
       "    </tr>\n",
       "    <tr>\n",
       "      <th>75%</th>\n",
       "      <td>45.884331</td>\n",
       "    </tr>\n",
       "    <tr>\n",
       "      <th>max</th>\n",
       "      <td>121.984368</td>\n",
       "    </tr>\n",
       "  </tbody>\n",
       "</table>\n",
       "</div>"
      ],
      "text/plain": [
       "              ecpm\n",
       "count  3633.000000\n",
       "mean     34.136346\n",
       "std      24.088901\n",
       "min       0.000000\n",
       "25%      16.711899\n",
       "50%      25.434385\n",
       "75%      45.884331\n",
       "max     121.984368"
      ]
     },
     "metadata": {},
     "output_type": "display_data"
    },
    {
     "data": {
      "text/html": [
       "<div>\n",
       "<style scoped>\n",
       "    .dataframe tbody tr th:only-of-type {\n",
       "        vertical-align: middle;\n",
       "    }\n",
       "\n",
       "    .dataframe tbody tr th {\n",
       "        vertical-align: top;\n",
       "    }\n",
       "\n",
       "    .dataframe thead th {\n",
       "        text-align: right;\n",
       "    }\n",
       "</style>\n",
       "<table border=\"1\" class=\"dataframe\">\n",
       "  <thead>\n",
       "    <tr style=\"text-align: right;\">\n",
       "      <th></th>\n",
       "      <th>ecpm</th>\n",
       "    </tr>\n",
       "  </thead>\n",
       "  <tbody>\n",
       "    <tr>\n",
       "      <th>count</th>\n",
       "      <td>1283.000000</td>\n",
       "    </tr>\n",
       "    <tr>\n",
       "      <th>mean</th>\n",
       "      <td>72.682765</td>\n",
       "    </tr>\n",
       "    <tr>\n",
       "      <th>std</th>\n",
       "      <td>62.580217</td>\n",
       "    </tr>\n",
       "    <tr>\n",
       "      <th>min</th>\n",
       "      <td>0.223222</td>\n",
       "    </tr>\n",
       "    <tr>\n",
       "      <th>25%</th>\n",
       "      <td>28.240000</td>\n",
       "    </tr>\n",
       "    <tr>\n",
       "      <th>50%</th>\n",
       "      <td>43.384727</td>\n",
       "    </tr>\n",
       "    <tr>\n",
       "      <th>75%</th>\n",
       "      <td>84.437353</td>\n",
       "    </tr>\n",
       "    <tr>\n",
       "      <th>max</th>\n",
       "      <td>215.556600</td>\n",
       "    </tr>\n",
       "  </tbody>\n",
       "</table>\n",
       "</div>"
      ],
      "text/plain": [
       "              ecpm\n",
       "count  1283.000000\n",
       "mean     72.682765\n",
       "std      62.580217\n",
       "min       0.223222\n",
       "25%      28.240000\n",
       "50%      43.384727\n",
       "75%      84.437353\n",
       "max     215.556600"
      ]
     },
     "metadata": {},
     "output_type": "display_data"
    },
    {
     "data": {
      "text/html": [
       "<div>\n",
       "<style scoped>\n",
       "    .dataframe tbody tr th:only-of-type {\n",
       "        vertical-align: middle;\n",
       "    }\n",
       "\n",
       "    .dataframe tbody tr th {\n",
       "        vertical-align: top;\n",
       "    }\n",
       "\n",
       "    .dataframe thead th {\n",
       "        text-align: right;\n",
       "    }\n",
       "</style>\n",
       "<table border=\"1\" class=\"dataframe\">\n",
       "  <thead>\n",
       "    <tr style=\"text-align: right;\">\n",
       "      <th></th>\n",
       "      <th>ecpm</th>\n",
       "    </tr>\n",
       "  </thead>\n",
       "  <tbody>\n",
       "    <tr>\n",
       "      <th>count</th>\n",
       "      <td>3238.000000</td>\n",
       "    </tr>\n",
       "    <tr>\n",
       "      <th>mean</th>\n",
       "      <td>0.773588</td>\n",
       "    </tr>\n",
       "    <tr>\n",
       "      <th>std</th>\n",
       "      <td>0.676418</td>\n",
       "    </tr>\n",
       "    <tr>\n",
       "      <th>min</th>\n",
       "      <td>0.013930</td>\n",
       "    </tr>\n",
       "    <tr>\n",
       "      <th>25%</th>\n",
       "      <td>0.299887</td>\n",
       "    </tr>\n",
       "    <tr>\n",
       "      <th>50%</th>\n",
       "      <td>0.548162</td>\n",
       "    </tr>\n",
       "    <tr>\n",
       "      <th>75%</th>\n",
       "      <td>0.991169</td>\n",
       "    </tr>\n",
       "    <tr>\n",
       "      <th>max</th>\n",
       "      <td>2.952090</td>\n",
       "    </tr>\n",
       "  </tbody>\n",
       "</table>\n",
       "</div>"
      ],
      "text/plain": [
       "              ecpm\n",
       "count  3238.000000\n",
       "mean      0.773588\n",
       "std       0.676418\n",
       "min       0.013930\n",
       "25%       0.299887\n",
       "50%       0.548162\n",
       "75%       0.991169\n",
       "max       2.952090"
      ]
     },
     "metadata": {},
     "output_type": "display_data"
    }
   ],
   "source": [
    "# повторим вывод описательных статистик\n",
    "display(full.describe(), rv.describe(), banner.describe())"
   ]
  },
  {
   "cell_type": "markdown",
   "metadata": {},
   "source": [
    "<b>Промежуточный вывод по шагу 1а):</b><br>\n",
    "От самых сильных выбросов мы избавились, но распределения всё ещё смещены вправо. На каждой из гистограмм присутствуют пики, самые значительные из них — на гистограмме распределения eCPM-ов для видео<br>\n",
    "Наибольший eCPM, средний и медианный, имеют видео (однако, видео также имеют и наибольшее стандартное отклонение), на втором месте полноэкранные объявления, а наименьший eCPM у баннеров.<br>"
   ]
  },
  {
   "cell_type": "markdown",
   "metadata": {},
   "source": [
    "### 1. б) Отображение средних eCPM по городу, версии ОС"
   ]
  },
  {
   "cell_type": "markdown",
   "metadata": {},
   "source": [
    "<b>Комментарий:</b> в ТЗ не очевидным образом отражен желаемый результат по шагам б) и в). Не до конца понятно, нужно исследовать средние eCPM по городам <b>и</b> версиям ОС или требуется исследовать их по отдельности. Я принял решение сделать второе, однако двухфакторный анализ тоже возможно реализовать."
   ]
  },
  {
   "cell_type": "markdown",
   "metadata": {},
   "source": [
    "Составим сводную таблицу для средних значений по городу в зависимости от типа объявления. Такую же таблицу составим для версии ОС. Пропуски заполним нулями, ведь никакого eCPM для этого источника нет."
   ]
  },
  {
   "cell_type": "code",
   "execution_count": 14,
   "metadata": {
    "scrolled": true
   },
   "outputs": [],
   "source": [
    "mean_ecpm_by_city = pd.pivot_table(data=df, index='city', columns='ad_type', values='ecpm').fillna(0)\n",
    "mean_ecpm_by_os = pd.pivot_table(data=df, index='os_version', columns='ad_type', values='ecpm').fillna(0)"
   ]
  },
  {
   "cell_type": "code",
   "execution_count": 15,
   "metadata": {
    "scrolled": false
   },
   "outputs": [
    {
     "data": {
      "text/plain": [
       "(920, 3)"
      ]
     },
     "metadata": {},
     "output_type": "display_data"
    },
    {
     "data": {
      "text/plain": [
       "(11, 3)"
      ]
     },
     "metadata": {},
     "output_type": "display_data"
    }
   ],
   "source": [
    "# выведем размерности каждого из датафреймов\n",
    "display(mean_ecpm_by_city.shape, mean_ecpm_by_os.shape)"
   ]
  },
  {
   "cell_type": "code",
   "execution_count": 16,
   "metadata": {},
   "outputs": [
    {
     "data": {
      "text/html": [
       "<div>\n",
       "<style scoped>\n",
       "    .dataframe tbody tr th:only-of-type {\n",
       "        vertical-align: middle;\n",
       "    }\n",
       "\n",
       "    .dataframe tbody tr th {\n",
       "        vertical-align: top;\n",
       "    }\n",
       "\n",
       "    .dataframe thead th {\n",
       "        text-align: right;\n",
       "    }\n",
       "</style>\n",
       "<table border=\"1\" class=\"dataframe\">\n",
       "  <thead>\n",
       "    <tr style=\"text-align: right;\">\n",
       "      <th>ad_type</th>\n",
       "      <th>banner</th>\n",
       "      <th>int</th>\n",
       "      <th>rv</th>\n",
       "    </tr>\n",
       "    <tr>\n",
       "      <th>city</th>\n",
       "      <th></th>\n",
       "      <th></th>\n",
       "      <th></th>\n",
       "    </tr>\n",
       "  </thead>\n",
       "  <tbody>\n",
       "    <tr>\n",
       "      <th>Aberdeen</th>\n",
       "      <td>0.321518</td>\n",
       "      <td>13.583285</td>\n",
       "      <td>21.516378</td>\n",
       "    </tr>\n",
       "    <tr>\n",
       "      <th>Abilene</th>\n",
       "      <td>0.941283</td>\n",
       "      <td>50.301282</td>\n",
       "      <td>53.492880</td>\n",
       "    </tr>\n",
       "    <tr>\n",
       "      <th>Addison</th>\n",
       "      <td>0.142235</td>\n",
       "      <td>0.000000</td>\n",
       "      <td>0.000000</td>\n",
       "    </tr>\n",
       "    <tr>\n",
       "      <th>Afton</th>\n",
       "      <td>0.303306</td>\n",
       "      <td>29.088757</td>\n",
       "      <td>0.000000</td>\n",
       "    </tr>\n",
       "    <tr>\n",
       "      <th>Akron</th>\n",
       "      <td>0.389318</td>\n",
       "      <td>64.626718</td>\n",
       "      <td>184.032872</td>\n",
       "    </tr>\n",
       "  </tbody>\n",
       "</table>\n",
       "</div>"
      ],
      "text/plain": [
       "ad_type     banner        int          rv\n",
       "city                                     \n",
       "Aberdeen  0.321518  13.583285   21.516378\n",
       "Abilene   0.941283  50.301282   53.492880\n",
       "Addison   0.142235   0.000000    0.000000\n",
       "Afton     0.303306  29.088757    0.000000\n",
       "Akron     0.389318  64.626718  184.032872"
      ]
     },
     "execution_count": 16,
     "metadata": {},
     "output_type": "execute_result"
    }
   ],
   "source": [
    "mean_ecpm_by_city.head()"
   ]
  },
  {
   "cell_type": "code",
   "execution_count": 17,
   "metadata": {
    "scrolled": true
   },
   "outputs": [
    {
     "name": "stdout",
     "output_type": "stream",
     "text": [
      "(74, 2)\n"
     ]
    },
    {
     "data": {
      "image/png": "[encoded data removed]",
      "text/plain": [
       "<Figure size 432x288 with 1 Axes>"
      ]
     },
     "metadata": {
      "needs_background": "light"
     },
     "output_type": "display_data"
    }
   ],
   "source": [
    "# посчитаем число уникальных пользователей на один город\n",
    "unique_per_city = df.groupby('city').agg({'profile_id':'nunique'}).reset_index()\n",
    "# выведем число городов, в которых больше 7 пользователей\n",
    "print(unique_per_city[unique_per_city.profile_id >= 7].shape)\n",
    "# визуализируем на гистограмме как убывает число уникальных пользователей\n",
    "unique_per_city.hist(bins=100, range=(0, 15));"
   ]
  },
  {
   "cell_type": "markdown",
   "metadata": {},
   "source": [
    "Судя по размерностям, с визуализацией eCPM-ов по версии ОС проблем не возникнет. А вот 920 уникальных городов наглядно визуализировать сложно. Придётся отбирать наиболее значимые. Для этого необходимо произвести дисперсионный анализ (one-way ANOVA).\n",
    "Для этого будем проверять гипотезы.<br>\n",
    "- **Нулевая гипотеза:** все города приносят одинаковое количество eCPM.\n",
    "- **Альтернативная гипотеза:** хотя бы одна пара городов стат.значимо отличается друг от друга по среднему eCPM"
   ]
  },
  {
   "cell_type": "markdown",
   "metadata": {},
   "source": [
    "В большинстве городов из датасета записано от 1 до 7 уникальных пользователей. При этом есть длинный хвост из 74 городов, в которых уникальных пользователей не менее 7. Предпочтительнее было бы работать с городами, в которых число юзеров позволяет не полагаться на пользовательское поведение конкретного человека. Выберем города с числом уникальных пользователей не менее 30. Таких городов в нашем датасете 22."
   ]
  },
  {
   "cell_type": "code",
   "execution_count": 18,
   "metadata": {},
   "outputs": [],
   "source": [
    "# создадим список городов с числом уникальных юзеров не меньше 30\n",
    "popular_cities = unique_per_city[unique_per_city.profile_id >= 30].city.values.tolist()\n",
    "# выберем баннеры для первого исследования\n",
    "banner = df.query('ad_type == \"banner\"')\n",
    "\n",
    "# добавим подмножества eCPM для каждого из городов в списке в отдельный список\n",
    "ecpm_by_pop_city = []\n",
    "for city in popular_cities:\n",
    "    ecpm_by_pop_city.append(banner['ecpm'][banner['city']==city])\n",
    "\n",
    "# сохраним pvalue после ANOVA в переменную для дальнейшего post-hoc\n",
    "pvalue = st.f_oneway(*ecpm_by_pop_city).pvalue"
   ]
  },
  {
   "cell_type": "code",
   "execution_count": 19,
   "metadata": {},
   "outputs": [
    {
     "name": "stdout",
     "output_type": "stream",
     "text": [
      "Отвергаем нулевую гипотезу\n"
     ]
    }
   ],
   "source": [
    "# применим поправку Бонферрони, чтобы учесть множественные сравнения\n",
    "bonferroni_alpha = len(popular_cities)*(len(popular_cities)-1)/2\n",
    "new_alpha = 0.05 / bonferroni_alpha\n",
    "\n",
    "if pvalue < new_alpha:\n",
    "    print(\"Отвергаем нулевую гипотезу\")\n",
    "else:\n",
    "    print(\"Принимаем нулевую гипотезу\")"
   ]
  },
  {
   "cell_type": "markdown",
   "metadata": {},
   "source": [
    "Поскольку Бонферрони является довольно консервативным ограничителем, тот факт, что стат.значимые различия в одной из пар всё же нашлись, говорит о том, что можно с большой степенью уверенности говорить о различиях минимум в одной из пар самых популярных по числу юзеров городов."
   ]
  },
  {
   "cell_type": "markdown",
   "metadata": {},
   "source": [
    "Посмотрим, какие именно города различаются по eCPM, используя post-hoc критерий Тьюки"
   ]
  },
  {
   "cell_type": "code",
   "execution_count": 20,
   "metadata": {},
   "outputs": [],
   "source": [
    "# заносим eCPMы и названия городов в одномерный список (Тьюки-тест принимает только в таком виде)\n",
    "data_1d = banner['ecpm'][banner.city.isin(popular_cities)].values.tolist()\n",
    "groups_1d = banner['city'][banner.city.isin(popular_cities)].values.tolist()\n",
    "\n",
    "tukey_test = pairwise_tukeyhsd(data_1d, groups_1d, alpha=0.05)"
   ]
  },
  {
   "cell_type": "code",
   "execution_count": 21,
   "metadata": {},
   "outputs": [
    {
     "name": "stdout",
     "output_type": "stream",
     "text": [
      "      Multiple Comparison of Means - Tukey HSD, FWER=0.05       \n",
      "================================================================\n",
      "   group1       group2    meandiff p-adj   lower   upper  reject\n",
      "----------------------------------------------------------------\n",
      "     Atlanta       Austin  -0.1611  0.001 -0.2728 -0.0494   True\n",
      "     Atlanta       Boston  -0.3536  0.001 -0.4661 -0.2411   True\n",
      "     Atlanta    Charlotte   0.0135    0.9 -0.0861   0.113  False\n",
      "     Atlanta      Chicago  -0.1804  0.001 -0.2812 -0.0796   True\n",
      "     Atlanta    Cleveland    0.516  0.001  0.4104  0.6216   True\n",
      "     Atlanta     Columbus   0.0458    0.9 -0.0602  0.1518  False\n",
      "     Atlanta       Dallas   0.2235  0.001  0.1172  0.3297   True\n",
      "     Atlanta       Denver  -0.0254    0.9  -0.131  0.0803  False\n",
      "     Atlanta      Detroit  -0.2182  0.001 -0.3369 -0.0995   True\n",
      "     Atlanta      Houston   0.1691  0.001    0.07  0.2681   True\n",
      "     Atlanta Indianapolis   0.7108  0.001   0.607  0.8146   True\n",
      "     Atlanta  Kansas City   0.0925 0.1612 -0.0113  0.1963  False\n",
      "     Atlanta  Los Angeles  -0.1066 0.0449 -0.2122  -0.001   True\n",
      "     Atlanta  Minneapolis  -0.1033 0.0211 -0.1999 -0.0067   True\n",
      "     Atlanta     New York   0.0208    0.9 -0.0731  0.1148  False\n",
      "     Atlanta Philadelphia  -0.0742  0.853  -0.199  0.0506  False\n",
      "     Atlanta      Phoenix  -0.2008  0.001 -0.3164 -0.0851   True\n",
      "     Atlanta     Portland   0.1749  0.001  0.0486  0.3011   True\n",
      "     Atlanta  San Antonio  -0.3747  0.001 -0.4765 -0.2728   True\n",
      "     Atlanta      Seattle   0.4088  0.001  0.2843  0.5332   True\n",
      "     Atlanta    St. Louis    0.089 0.5768 -0.0364  0.2144  False\n",
      "      Austin       Boston  -0.1925  0.001  -0.293 -0.0919   True\n",
      "      Austin    Charlotte   0.1746  0.001  0.0888  0.2604   True\n",
      "      Austin      Chicago  -0.0193    0.9 -0.1065  0.0679  False\n",
      "      Austin    Cleveland   0.6771  0.001  0.5843  0.7699   True\n",
      "      Austin     Columbus    0.207  0.001  0.1137  0.3002   True\n",
      "      Austin       Dallas   0.3846  0.001  0.2911  0.4781   True\n",
      "      Austin       Denver   0.1357  0.001  0.0429  0.2286   True\n",
      "      Austin      Detroit  -0.0571    0.9 -0.1646  0.0504  False\n",
      "      Austin      Houston   0.3302  0.001  0.2449  0.4154   True\n",
      "      Austin Indianapolis   0.8719  0.001  0.7813  0.9626   True\n",
      "      Austin  Kansas City   0.2536  0.001  0.1629  0.3443   True\n",
      "      Austin  Los Angeles   0.0545 0.8688 -0.0382  0.1473  False\n",
      "      Austin  Minneapolis   0.0578  0.597 -0.0246  0.1402  False\n",
      "      Austin     New York   0.1819  0.001  0.1027  0.2612   True\n",
      "      Austin Philadelphia   0.0869 0.4506 -0.0272  0.2011  False\n",
      "      Austin      Phoenix  -0.0396    0.9 -0.1437  0.0644  False\n",
      "      Austin     Portland    0.336  0.001  0.2203  0.4517   True\n",
      "      Austin  San Antonio  -0.2136  0.001  -0.302 -0.1251   True\n",
      "      Austin      Seattle   0.5699  0.001  0.4561  0.6837   True\n",
      "      Austin    St. Louis   0.2501  0.001  0.1354  0.3649   True\n",
      "      Boston    Charlotte   0.3671  0.001  0.2803  0.4539   True\n",
      "      Boston      Chicago   0.1732  0.001  0.0849  0.2614   True\n",
      "      Boston    Cleveland   0.8696  0.001  0.7759  0.9634   True\n",
      "      Boston     Columbus   0.3994  0.001  0.3053  0.4936   True\n",
      "      Boston       Dallas   0.5771  0.001  0.4826  0.6715   True\n",
      "      Boston       Denver   0.3282  0.001  0.2344   0.422   True\n",
      "      Boston      Detroit   0.1354 0.0014  0.0271  0.2437   True\n",
      "      Boston      Houston   0.5227  0.001  0.4364  0.6089   True\n",
      "      Boston Indianapolis   1.0644  0.001  0.9728   1.156   True\n",
      "      Boston  Kansas City   0.4461  0.001  0.3544  0.5378   True\n",
      "      Boston  Los Angeles    0.247  0.001  0.1533  0.3407   True\n",
      "      Boston  Minneapolis   0.2503  0.001  0.1668  0.3338   True\n",
      "      Boston     New York   0.3744  0.001  0.2941  0.4548   True\n",
      "      Boston Philadelphia   0.2794  0.001  0.1645  0.3943   True\n",
      "      Boston      Phoenix   0.1528  0.001   0.048  0.2577   True\n",
      "      Boston     Portland   0.5285  0.001   0.412  0.6449   True\n",
      "      Boston  San Antonio  -0.0211    0.9 -0.1105  0.0684  False\n",
      "      Boston      Seattle   0.7624  0.001  0.6478  0.8769   True\n",
      "      Boston    St. Louis   0.4426  0.001  0.3271  0.5582   True\n",
      "   Charlotte      Chicago  -0.1939  0.001 -0.2649 -0.1229   True\n",
      "   Charlotte    Cleveland   0.5025  0.001  0.4249  0.5802   True\n",
      "   Charlotte     Columbus   0.0324    0.9 -0.0458  0.1105  False\n",
      "   Charlotte       Dallas     0.21  0.001  0.1314  0.2885   True\n",
      "   Charlotte       Denver  -0.0389    0.9 -0.1166  0.0389  False\n",
      "   Charlotte      Detroit  -0.2317  0.001 -0.3264 -0.1369   True\n",
      "   Charlotte      Houston   0.1556  0.001  0.0871  0.2241   True\n",
      "   Charlotte Indianapolis   0.6973  0.001  0.6222  0.7725   True\n",
      "   Charlotte  Kansas City    0.079 0.0269  0.0038  0.1542   True\n",
      "   Charlotte  Los Angeles  -0.1201  0.001 -0.1977 -0.0424   True\n",
      "   Charlotte  Minneapolis  -0.1168  0.001 -0.1817 -0.0518   True\n",
      "   Charlotte     New York   0.0073    0.9 -0.0535  0.0682  False\n",
      "   Charlotte Philadelphia  -0.0877 0.2181 -0.1899  0.0146  False\n",
      "   Charlotte      Phoenix  -0.2142  0.001 -0.3051 -0.1234   True\n",
      "   Charlotte     Portland   0.1614  0.001  0.0574  0.2654   True\n",
      "   Charlotte  San Antonio  -0.3882  0.001 -0.4606 -0.3157   True\n",
      "   Charlotte      Seattle   0.3953  0.001  0.2934  0.4971   True\n",
      "   Charlotte    St. Louis   0.0756 0.5202 -0.0274  0.1785  False\n",
      "     Chicago    Cleveland   0.6964  0.001  0.6172  0.7757   True\n",
      "     Chicago     Columbus   0.2262  0.001  0.1465   0.306   True\n",
      "     Chicago       Dallas   0.4039  0.001  0.3238   0.484   True\n",
      "     Chicago       Denver    0.155  0.001  0.0757  0.2343   True\n",
      "     Chicago      Detroit  -0.0378    0.9 -0.1338  0.0583  False\n",
      "     Chicago      Houston   0.3495  0.001  0.2792  0.4198   True\n",
      "     Chicago Indianapolis   0.8912  0.001  0.8144   0.968   True\n",
      "     Chicago  Kansas City   0.2729  0.001   0.196  0.3497   True\n",
      "     Chicago  Los Angeles   0.0738 0.1076 -0.0054  0.1531  False\n",
      "     Chicago  Minneapolis   0.0771 0.0065  0.0103  0.1439   True\n",
      "     Chicago     New York   0.2012  0.001  0.1384  0.2641   True\n",
      "     Chicago Philadelphia   0.1062 0.0363  0.0028  0.2097   True\n",
      "     Chicago      Phoenix  -0.0204    0.9 -0.1125  0.0718  False\n",
      "     Chicago     Portland   0.3553  0.001  0.2501  0.4604   True\n",
      "     Chicago  San Antonio  -0.1943  0.001 -0.2684 -0.1201   True\n",
      "     Chicago      Seattle   0.5892  0.001  0.4861  0.6922   True\n",
      "     Chicago    St. Louis   0.2694  0.001  0.1653  0.3736   True\n",
      "   Cleveland     Columbus  -0.4702  0.001  -0.556 -0.3844   True\n",
      "   Cleveland       Dallas  -0.2926  0.001 -0.3787 -0.2064   True\n",
      "   Cleveland       Denver  -0.5414  0.001 -0.6268  -0.456   True\n",
      "   Cleveland      Detroit  -0.7342  0.001 -0.8353 -0.6331   True\n",
      "   Cleveland      Houston  -0.3469  0.001  -0.424 -0.2699   True\n",
      "   Cleveland Indianapolis   0.1948  0.001  0.1118  0.2778   True\n",
      "   Cleveland  Kansas City  -0.4235  0.001 -0.5066 -0.3404   True\n",
      "   Cleveland  Los Angeles  -0.6226  0.001 -0.7079 -0.5373   True\n",
      "   Cleveland  Minneapolis  -0.6193  0.001 -0.6932 -0.5454   True\n",
      "   Cleveland     New York  -0.4952  0.001 -0.5656 -0.4248   True\n",
      "   Cleveland Philadelphia  -0.5902  0.001 -0.6984  -0.482   True\n",
      "   Cleveland      Phoenix  -0.7168  0.001 -0.8142 -0.6193   True\n",
      "   Cleveland     Portland  -0.3412  0.001  -0.451 -0.2313   True\n",
      "   Cleveland  San Antonio  -0.8907  0.001 -0.9713 -0.8101   True\n",
      "   Cleveland      Seattle  -0.1073 0.0532 -0.2151  0.0006  False\n",
      "   Cleveland    St. Louis   -0.427  0.001 -0.5358 -0.3181   True\n",
      "    Columbus       Dallas   0.1776  0.001   0.091  0.2642   True\n",
      "    Columbus       Denver  -0.0712 0.2747 -0.1571  0.0146  False\n",
      "    Columbus      Detroit   -0.264  0.001 -0.3655 -0.1625   True\n",
      "    Columbus      Houston   0.1232  0.001  0.0457  0.2008   True\n",
      "    Columbus Indianapolis    0.665  0.001  0.5815  0.7485   True\n",
      "    Columbus  Kansas City   0.0466    0.9 -0.0369  0.1302  False\n",
      "    Columbus  Los Angeles  -0.1524  0.001 -0.2382 -0.0666   True\n",
      "    Columbus  Minneapolis  -0.1491  0.001 -0.2236 -0.0747   True\n",
      "    Columbus     New York   -0.025    0.9 -0.0959  0.0459  False\n",
      "    Columbus Philadelphia    -0.12 0.0129 -0.2286 -0.0115   True\n",
      "    Columbus      Phoenix  -0.2466  0.001 -0.3444 -0.1487   True\n",
      "    Columbus     Portland    0.129  0.005  0.0188  0.2392   True\n",
      "    Columbus  San Antonio  -0.4205  0.001 -0.5016 -0.3394   True\n",
      "    Columbus      Seattle   0.3629  0.001  0.2548  0.4711   True\n",
      "    Columbus    St. Louis   0.0432    0.9  -0.066  0.1524  False\n",
      "      Dallas       Denver  -0.2488  0.001  -0.335 -0.1627   True\n",
      "      Dallas      Detroit  -0.4416  0.001 -0.5434 -0.3399   True\n",
      "      Dallas      Houston  -0.0544 0.6058 -0.1323  0.0235  False\n",
      "      Dallas Indianapolis   0.4873  0.001  0.4035  0.5712   True\n",
      "      Dallas  Kansas City   -0.131  0.001 -0.2149 -0.0471   True\n",
      "      Dallas  Los Angeles    -0.33  0.001 -0.4161 -0.2439   True\n",
      "      Dallas  Minneapolis  -0.3268  0.001 -0.4016 -0.2519   True\n",
      "      Dallas     New York  -0.2026  0.001 -0.2739 -0.1313   True\n",
      "      Dallas Philadelphia  -0.2976  0.001 -0.4064 -0.1888   True\n",
      "      Dallas      Phoenix  -0.4242  0.001 -0.5223 -0.3261   True\n",
      "      Dallas     Portland  -0.0486    0.9  -0.159  0.0618  False\n",
      "      Dallas  San Antonio  -0.5981  0.001 -0.6796 -0.5167   True\n",
      "      Dallas      Seattle   0.1853  0.001  0.0769  0.2937   True\n",
      "      Dallas    St. Louis  -0.1344 0.0021 -0.2439  -0.025   True\n",
      "      Denver      Detroit  -0.1928  0.001  -0.294 -0.0916   True\n",
      "      Denver      Houston   0.1945  0.001  0.1173  0.2716   True\n",
      "      Denver Indianapolis   0.7362  0.001  0.6531  0.8193   True\n",
      "      Denver  Kansas City   0.1179  0.001  0.0347   0.201   True\n",
      "      Denver  Los Angeles  -0.0812 0.0875 -0.1666  0.0042  False\n",
      "      Denver  Minneapolis  -0.0779 0.0259 -0.1519 -0.0039   True\n",
      "      Denver     New York   0.0462 0.7052 -0.0242  0.1166  False\n",
      "      Denver Philadelphia  -0.0488    0.9  -0.157  0.0594  False\n",
      "      Denver      Phoenix  -0.1754  0.001 -0.2728 -0.0779   True\n",
      "      Denver     Portland   0.2003  0.001  0.0904  0.3101   True\n",
      "      Denver  San Antonio  -0.3493  0.001 -0.4299 -0.2686   True\n",
      "      Denver      Seattle   0.4342  0.001  0.3263   0.542   True\n",
      "      Denver    St. Louis   0.1144 0.0267  0.0055  0.2233   True\n",
      "     Detroit      Houston   0.3873  0.001   0.293  0.4815   True\n",
      "     Detroit Indianapolis    0.929  0.001  0.8298  1.0282   True\n",
      "     Detroit  Kansas City   0.3107  0.001  0.2114  0.4099   True\n",
      "     Detroit  Los Angeles   0.1116 0.0132  0.0105  0.2127   True\n",
      "     Detroit  Minneapolis   0.1149 0.0014  0.0232  0.2066   True\n",
      "     Detroit     New York    0.239  0.001  0.1502  0.3279   True\n",
      "     Detroit Philadelphia    0.144 0.0038   0.023   0.265   True\n",
      "     Detroit      Phoenix   0.0174    0.9 -0.0941   0.129  False\n",
      "     Detroit     Portland   0.3931  0.001  0.2706  0.5155   True\n",
      "     Detroit  San Antonio  -0.1565  0.001 -0.2536 -0.0593   True\n",
      "     Detroit      Seattle    0.627  0.001  0.5063  0.7476   True\n",
      "     Detroit    St. Louis   0.3072  0.001  0.1856  0.4289   True\n",
      "     Houston Indianapolis   0.5417  0.001  0.4672  0.6162   True\n",
      "     Houston  Kansas City  -0.0766 0.0362 -0.1512  -0.002   True\n",
      "     Houston  Los Angeles  -0.2757  0.001 -0.3527 -0.1986   True\n",
      "     Houston  Minneapolis  -0.2724  0.001 -0.3366 -0.2082   True\n",
      "     Houston     New York  -0.1482  0.001 -0.2083 -0.0882   True\n",
      "     Houston Philadelphia  -0.2433  0.001  -0.345 -0.1415   True\n",
      "     Houston      Phoenix  -0.3698  0.001 -0.4601 -0.2795   True\n",
      "     Houston     Portland   0.0058    0.9 -0.0977  0.1093  False\n",
      "     Houston  San Antonio  -0.5437  0.001 -0.6155  -0.472   True\n",
      "     Houston      Seattle   0.2397  0.001  0.1383  0.3411   True\n",
      "     Houston    St. Louis    -0.08 0.3976 -0.1825  0.0225  False\n",
      "Indianapolis  Kansas City  -0.6183  0.001 -0.6991 -0.5376   True\n",
      "Indianapolis  Los Angeles  -0.8174  0.001 -0.9004 -0.7344   True\n",
      "Indianapolis  Minneapolis  -0.8141  0.001 -0.8853 -0.7428   True\n",
      "Indianapolis     New York    -0.69  0.001 -0.7575 -0.6224   True\n",
      "Indianapolis Philadelphia   -0.785  0.001 -0.8913 -0.6786   True\n",
      "Indianapolis      Phoenix  -0.9116  0.001  -1.007 -0.8161   True\n",
      "Indianapolis     Portland  -0.5359  0.001  -0.644 -0.4279   True\n",
      "Indianapolis  San Antonio  -1.0855  0.001 -1.1636 -1.0073   True\n",
      "Indianapolis      Seattle   -0.302  0.001  -0.408 -0.1961   True\n",
      "Indianapolis    St. Louis  -0.6218  0.001 -0.7288 -0.5147   True\n",
      " Kansas City  Los Angeles  -0.1991  0.001 -0.2822  -0.116   True\n",
      " Kansas City  Minneapolis  -0.1958  0.001 -0.2671 -0.1244   True\n",
      " Kansas City     New York  -0.0717 0.0239 -0.1393  -0.004   True\n",
      " Kansas City Philadelphia  -0.1667  0.001 -0.2731 -0.0602   True\n",
      " Kansas City      Phoenix  -0.2932  0.001 -0.3887 -0.1977   True\n",
      " Kansas City     Portland   0.0824  0.449 -0.0257  0.1905  False\n",
      " Kansas City  San Antonio  -0.4671  0.001 -0.5454 -0.3889   True\n",
      " Kansas City      Seattle   0.3163  0.001  0.2103  0.4223   True\n",
      " Kansas City    St. Louis  -0.0034    0.9 -0.1106  0.1037  False\n",
      " Los Angeles  Minneapolis   0.0033    0.9 -0.0706  0.0772  False\n",
      " Los Angeles     New York   0.1274  0.001  0.0571  0.1978   True\n",
      " Los Angeles Philadelphia   0.0324    0.9 -0.0758  0.1406  False\n",
      " Los Angeles      Phoenix  -0.0942 0.0741 -0.1916  0.0033  False\n",
      " Los Angeles     Portland   0.2814  0.001  0.1716  0.3913   True\n",
      " Los Angeles  San Antonio  -0.2681  0.001 -0.3487 -0.1875   True\n",
      " Los Angeles      Seattle   0.5154  0.001  0.4076  0.6231   True\n",
      " Los Angeles    St. Louis   0.1956  0.001  0.0868  0.3045   True\n",
      " Minneapolis     New York   0.1241  0.001  0.0681  0.1801   True\n",
      " Minneapolis Philadelphia   0.0291    0.9 -0.0703  0.1285  False\n",
      " Minneapolis      Phoenix  -0.0975 0.0117 -0.1851 -0.0098   True\n",
      " Minneapolis     Portland   0.2782  0.001  0.1769  0.3794   True\n",
      " Minneapolis  San Antonio  -0.2714  0.001 -0.3398  -0.203   True\n",
      " Minneapolis      Seattle   0.5121  0.001   0.413  0.6111   True\n",
      " Minneapolis    St. Louis   0.1923  0.001  0.0922  0.2925   True\n",
      "    New York Philadelphia   -0.095 0.0625 -0.1918  0.0018  False\n",
      "    New York      Phoenix  -0.2216  0.001 -0.3062 -0.1369   True\n",
      "    New York     Portland    0.154  0.001  0.0554  0.2527   True\n",
      "    New York  San Antonio  -0.3955  0.001   -0.46  -0.331   True\n",
      "    New York      Seattle   0.3879  0.001  0.2916  0.4843   True\n",
      "    New York    St. Louis   0.0682 0.6029 -0.0294  0.1658  False\n",
      "Philadelphia      Phoenix  -0.1266   0.02 -0.2445 -0.0086   True\n",
      "Philadelphia     Portland    0.249  0.001  0.1207  0.3774   True\n",
      "Philadelphia  San Antonio  -0.3005  0.001  -0.405  -0.196   True\n",
      "Philadelphia      Seattle   0.4829  0.001  0.3563  0.6096   True\n",
      "Philadelphia    St. Louis   0.1632  0.001  0.0357  0.2908   True\n",
      "     Phoenix     Portland   0.3756  0.001  0.2562  0.4951   True\n",
      "     Phoenix  San Antonio  -0.1739  0.001 -0.2672 -0.0806   True\n",
      "     Phoenix      Seattle   0.6095  0.001  0.4919  0.7271   True\n",
      "     Phoenix    St. Louis   0.2898  0.001  0.1712  0.4084   True\n",
      "    Portland  San Antonio  -0.5495  0.001 -0.6557 -0.4434   True\n",
      "    Portland      Seattle   0.2339  0.001  0.1058   0.362   True\n",
      "    Portland    St. Louis  -0.0858  0.683 -0.2148  0.0431  False\n",
      " San Antonio      Seattle   0.7834  0.001  0.6793  0.8875   True\n",
      " San Antonio    St. Louis   0.4637  0.001  0.3585  0.5689   True\n",
      "     Seattle    St. Louis  -0.3197  0.001  -0.447 -0.1925   True\n",
      "----------------------------------------------------------------\n"
     ]
    }
   ],
   "source": [
    "print(tukey_test)"
   ]
  },
  {
   "cell_type": "markdown",
   "metadata": {},
   "source": [
    "Видим, что большинство отобранных нами городов попарно стат.значимо различаются по показателю eCPM для баннеров. <br>\n",
    "В приложенном файле tukey.txt приводится попарное сравнение средних eCPMов по баннерам из всех городов из нашего датасета по критерию Тьюки. <br><br>\n",
    "Из-за ограничения по времени выполнения задания прокомментирую, что аналогичным образом я бы сравнивал остальные типы объявлений. Средние eCPM по каждому типу объявления для каждого города приводятся в датафрейме mean_ecpm_by_city выше."
   ]
  },
  {
   "cell_type": "markdown",
   "metadata": {},
   "source": [
    "Визуализируем в виде тепловой карты средние eCPM по версии ОС и типу объявления."
   ]
  },
  {
   "cell_type": "code",
   "execution_count": 22,
   "metadata": {
    "scrolled": true
   },
   "outputs": [
    {
     "data": {
      "image/png": "[encoded data removed]",
      "text/plain": [
       "<Figure size 720x864 with 2 Axes>"
      ]
     },
     "metadata": {
      "needs_background": "light"
     },
     "output_type": "display_data"
    }
   ],
   "source": [
    "figure = plt.figure(figsize=(10, 12))\n",
    "sns.heatmap(mean_ecpm_by_os, annot=True);"
   ]
  },
  {
   "cell_type": "markdown",
   "metadata": {},
   "source": [
    "На графике видим, что наибольшие eCPM у версий 7.0, 10, 11 и 12. Самые низкие eCPM у версий 5.0.2, 6.0.1, 7.1.2 и 7.1.1. Предполагаю, что если провести тесты, которые мы провели выше, мы увидим стат.значимые различия между этими двумя группами версий ОС."
   ]
  },
  {
   "cell_type": "markdown",
   "metadata": {},
   "source": [
    "### 1. в) Отображение суммарных доходов по городу, версии ОС."
   ]
  },
  {
   "cell_type": "markdown",
   "metadata": {},
   "source": [
    "Поскольку для каждого пользователя мы имеем накопительный ltv, который с течением времени не может снижаться, есть смысл для каждого пользователя в каждом городе/для каждой ОС взять последний по времени доступный ltv и именно его учесть в суммарном доходе. <br>\n",
    "Ещё один вариант, более простой, — для каждого пользователя взять максимальный ltv, именно он и окажется последним по времени."
   ]
  },
  {
   "cell_type": "code",
   "execution_count": 23,
   "metadata": {},
   "outputs": [],
   "source": [
    "# группируем по городу, профилю и типу объявления и получаем максимальные ltv\n",
    "ltv_by_city = df.groupby(['city', 'profile_id', 'ad_type'], as_index=False).agg({'ads_ltv':'max'})\n",
    "\n",
    "#суммируем ltv в каждом городе в зависимости от типа объявления\n",
    "ltv_by_city = ltv_by_city.groupby(['city', 'ad_type'], as_index=False).agg({'ads_ltv':'sum'}).fillna(0)\n",
    "\n",
    "#переформатируем результат в сводную таблицу для удобства чтения\n",
    "ltv_by_city_pivot = pd.pivot_table(ltv_by_city, index='city', columns='ad_type', values='ads_ltv')"
   ]
  },
  {
   "cell_type": "code",
   "execution_count": 36,
   "metadata": {
    "scrolled": true
   },
   "outputs": [
    {
     "data": {
      "text/html": [
       "<div>\n",
       "<style scoped>\n",
       "    .dataframe tbody tr th:only-of-type {\n",
       "        vertical-align: middle;\n",
       "    }\n",
       "\n",
       "    .dataframe tbody tr th {\n",
       "        vertical-align: top;\n",
       "    }\n",
       "\n",
       "    .dataframe thead th {\n",
       "        text-align: right;\n",
       "    }\n",
       "</style>\n",
       "<table border=\"1\" class=\"dataframe\">\n",
       "  <thead>\n",
       "    <tr style=\"text-align: right;\">\n",
       "      <th>ad_type</th>\n",
       "      <th>banner</th>\n",
       "      <th>int</th>\n",
       "      <th>rv</th>\n",
       "    </tr>\n",
       "    <tr>\n",
       "      <th>city</th>\n",
       "      <th></th>\n",
       "      <th></th>\n",
       "      <th></th>\n",
       "    </tr>\n",
       "  </thead>\n",
       "  <tbody>\n",
       "    <tr>\n",
       "      <th>Minneapolis</th>\n",
       "      <td>59.467911</td>\n",
       "      <td>56.815507</td>\n",
       "      <td>31.712328</td>\n",
       "    </tr>\n",
       "    <tr>\n",
       "      <th>New York</th>\n",
       "      <td>55.855177</td>\n",
       "      <td>52.885603</td>\n",
       "      <td>32.258305</td>\n",
       "    </tr>\n",
       "    <tr>\n",
       "      <th>Houston</th>\n",
       "      <td>52.913026</td>\n",
       "      <td>48.716424</td>\n",
       "      <td>29.360601</td>\n",
       "    </tr>\n",
       "    <tr>\n",
       "      <th>Indianapolis</th>\n",
       "      <td>49.342610</td>\n",
       "      <td>47.698915</td>\n",
       "      <td>33.967805</td>\n",
       "    </tr>\n",
       "    <tr>\n",
       "      <th>Denver</th>\n",
       "      <td>45.062033</td>\n",
       "      <td>39.283110</td>\n",
       "      <td>17.416381</td>\n",
       "    </tr>\n",
       "  </tbody>\n",
       "</table>\n",
       "</div>"
      ],
      "text/plain": [
       "ad_type          banner        int         rv\n",
       "city                                         \n",
       "Minneapolis   59.467911  56.815507  31.712328\n",
       "New York      55.855177  52.885603  32.258305\n",
       "Houston       52.913026  48.716424  29.360601\n",
       "Indianapolis  49.342610  47.698915  33.967805\n",
       "Denver        45.062033  39.283110  17.416381"
      ]
     },
     "execution_count": 36,
     "metadata": {},
     "output_type": "execute_result"
    }
   ],
   "source": [
    "# выводим топ-5 городов, сортируя по 3м типам сразу\n",
    "ltv_by_city_pivot.sort_values(by = ['banner', 'int', 'rv'], ascending = False).head()"
   ]
  },
  {
   "cell_type": "markdown",
   "metadata": {},
   "source": [
    "Первая пятерка городов, как и ожидалось, состоит из больших городов с большим количеством пользователей. В зависимости от типа объявления их порядок в списке может варьироваться, однако можно говорить о том, что больше всего дохода в сумме принесли Миннеаполис, Нью Йорк, Хьюстон, Индианаполис и Денвер."
   ]
  },
  {
   "cell_type": "code",
   "execution_count": 31,
   "metadata": {},
   "outputs": [],
   "source": [
    "# группируем по ОС, профилю и типу объявления и получаем максимальные ltv\n",
    "ltv_by_os = df.groupby(['os_version', 'profile_id', 'ad_type'], as_index=False).agg({'ads_ltv':'max'})\n",
    "\n",
    "#суммируем ltv в каждой ОС в зависимости от типа объявления\n",
    "ltv_by_os = ltv_by_os.groupby(['os_version', 'ad_type'], as_index=False).agg({'ads_ltv':'sum'}).fillna(0)\n",
    "\n",
    "#переформатируем результат в сводную таблицу для удобства чтения\n",
    "ltv_by_os_pivot = pd.pivot_table(ltv_by_os.fillna(0), index='os_version', columns='ad_type', values='ads_ltv')"
   ]
  },
  {
   "cell_type": "code",
   "execution_count": 32,
   "metadata": {},
   "outputs": [
    {
     "data": {
      "image/png": "[encoded data removed]",
      "text/plain": [
       "<Figure size 720x864 with 2 Axes>"
      ]
     },
     "metadata": {
      "needs_background": "light"
     },
     "output_type": "display_data"
    }
   ],
   "source": [
    "# визуализируем результат на тепловой карте для удобства интерпретации\n",
    "fig = plt.figure(figsize=(10, 12))\n",
    "sns.heatmap(ltv_by_os_pivot, annot=True, fmt='g');"
   ]
  },
  {
   "cell_type": "markdown",
   "metadata": {},
   "source": [
    "По версиям операционных систем тоже есть очевидные лидеры — это версии 12, 11 и 10 (в порядке убывания дохода). Пользователи версии 7.1.2 совсем не смотрели видео. Возможно в версии игры для их ОС эта опция не предлагалась, либо те 2 уникальных пользователя, которые пользуются этой ОС, её не использовали."
   ]
  },
  {
   "cell_type": "markdown",
   "metadata": {},
   "source": [
    "## Вывод\n",
    "\n",
    "Мы получили датасет, который содержит информацию о показах рекламы для юзеров США.<br>\n",
    "В данных были обнаружены пропуски, выбросы, а также неправильные типы данных в полях для дат. Явных дубликатов и ошибочных значений обнаружено не было.<br><br>\n",
    "\n",
    "При визуализации распределений на каждой из гистограмм по типам присутствуют пики, самые значительные из них — на гистограмме распределения eCPM-ов для видео.<br>\n",
    "Наибольший eCPM, средний и медианный, имеют видео (однако, видео также имеют и наибольшее стандартное отклонение), на втором месте полноэкранные объявления, а наименьший средний и медианный eCPM у баннеров. <br>Однако по суммарным значениям всё наоборот. В сумме баннеры имеют больший eCPM, чем полноэкранные объявления, а они, в свою очередь, стоят в сумме больше, чем видео.<br><br>\n",
    "\n",
    "В ходе исследования были отображены средние eCPM-ы по городам, версиям ОС. <br>\n",
    "Поскольку уникальных городов в датасете 920, было решено взять города, в которых находится больше 30 уникальных пользователей — произвольное число людей, из которого можно делать какие-то выводы, не полагаясь на пользовательское поведение конкретного юзера, поскольку его вклад при таком числе юзеров будет не так весом, как если бы юзером было, например, двое. <br>\n",
    "Далее был произведен дисперсионный анализ средних ecpm по городам — большинство попарных сравнений крупных городов показали статистически значимые различия в средних значениях по баннерам. Далее необходимо исследовать остальные типы объявлений и если в них тоже будут выявлены стат.значимые различия, сравнить города между собой по eCPM.<br>\n",
    "По версиям ОС наибольшие eCPM у версий 7.0, 10, 11 и 12. Самые низкие eCPM у версий 5.0.2, 6.0.1, 7.1.2 и 7.1.1. Необходимо дополнительно исследовать стат.значимость этих различий.<br><br>\n",
    "\n",
    "Также были отображены суммарные доходы по городам, версиям ОС.<br>\n",
    "Первая пятерка городов по суммарным доходам, как и ожидалось, состоит из больших городов с большим количеством пользователей. В зависимости от типа объявления их порядок в списке может варьироваться, однако можно говорить о том, что больше всего дохода в сумме принесли Миннеаполис, Нью Йорк, Хьюстон, Индианаполис и Денвер.<br>\n",
    "По версиям операционных систем тоже есть очевидные лидеры — это версии 12, 11 и 10 (в порядке убывания дохода). Пользователи версии 7.1.2 совсем не смотрели видео. Возможно в версии игры для их ОС эта опция не предлагалась, либо те 2 уникальных пользователя, которые пользуются этой ОС, её не использовали."
   ]
  }
 ],
 "metadata": {
  "kernelspec": {
   "display_name": "Python 3",
   "language": "python",
   "name": "python3"
  },
  "language_info": {
   "codemirror_mode": {
    "name": "ipython",
    "version": 3
   },
   "file_extension": ".py",
   "mimetype": "text/x-python",
   "name": "python",
   "nbconvert_exporter": "python",
   "pygments_lexer": "ipython3",
   "version": "3.8.5"
  }
 },
 "nbformat": 4,
 "nbformat_minor": 4
}
